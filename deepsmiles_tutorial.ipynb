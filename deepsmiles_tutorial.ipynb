{
 "cells": [
  {
   "cell_type": "code",
   "execution_count": 1,
   "metadata": {},
   "outputs": [],
   "source": [
    "import deepsmiles"
   ]
  },
  {
   "cell_type": "code",
   "execution_count": 2,
   "metadata": {},
   "outputs": [
    {
     "name": "stdout",
     "output_type": "stream",
     "text": [
      "DeepSMILES version: 1.0.1\n"
     ]
    }
   ],
   "source": [
    "print(\"DeepSMILES version: %s\" % deepsmiles.__version__)"
   ]
  },
  {
   "cell_type": "code",
   "execution_count": 3,
   "metadata": {},
   "outputs": [
    {
     "name": "stdout",
     "output_type": "stream",
     "text": [
      "Converter(rings=True, branches=True)\n"
     ]
    }
   ],
   "source": [
    "converter = deepsmiles.Converter(rings=True, branches=True)\n",
    "print(converter) # record the options used"
   ]
  },
  {
   "cell_type": "code",
   "execution_count": 4,
   "metadata": {},
   "outputs": [
    {
     "name": "stdout",
     "output_type": "stream",
     "text": [
      "Encoded: cccccC=O)Cl))c6\n"
     ]
    }
   ],
   "source": [
    "encoded = converter.encode(\"c1cccc(C(=O)Cl)c1\")\n",
    "print(\"Encoded: %s\" % encoded)"
   ]
  },
  {
   "cell_type": "code",
   "execution_count": 5,
   "metadata": {},
   "outputs": [],
   "source": [
    "try:\n",
    "    decoded = converter.decode(encoded)\n",
    "except deepsmiles.DecodeError as e:\n",
    "    decoded = None\n",
    "    print(\"DecodeError! Error message was '%s'\" % e.message)"
   ]
  },
  {
   "cell_type": "code",
   "execution_count": 6,
   "metadata": {},
   "outputs": [
    {
     "name": "stdout",
     "output_type": "stream",
     "text": [
      "Decoded: c1cccc(C(=O)Cl)c1\n"
     ]
    }
   ],
   "source": [
    "if decoded:\n",
    "    print(\"Decoded: %s\" % decoded)"
   ]
  }
 ],
 "metadata": {
  "kernelspec": {
   "display_name": "Python 3",
   "language": "python",
   "name": "python3"
  },
  "language_info": {
   "codemirror_mode": {
    "name": "ipython",
    "version": 3
   },
   "file_extension": ".py",
   "mimetype": "text/x-python",
   "name": "python",
   "nbconvert_exporter": "python",
   "pygments_lexer": "ipython3",
   "version": "3.9.13"
  }
 },
 "nbformat": 4,
 "nbformat_minor": 2
}
