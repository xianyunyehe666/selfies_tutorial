{
 "cells": [
  {
   "cell_type": "code",
   "execution_count": 29,
   "metadata": {},
   "outputs": [],
   "source": [
    "import selfies as sf\n",
    "from rdkit import Chem"
   ]
  },
  {
   "cell_type": "code",
   "execution_count": 30,
   "metadata": {},
   "outputs": [],
   "source": [
    "original_smiles = \"O=Cc1ccccc1\"\n",
    "\n",
    "try:\n",
    "    encoded_selfies = sf.encoder(original_smiles) #SMILEs->SELFIES\n",
    "    decoded_smiles = sf.decoder(encoded_selfies) #SELFIES->SMILES\n",
    "\n",
    "except sf.EncoderError as err:\n",
    "    pass # sf.encoder error...\n",
    "except sf.DecoderError as err:\n",
    "    pass # sf.decoder error..."
   ]
  },
  {
   "cell_type": "code",
   "execution_count": 31,
   "metadata": {},
   "outputs": [
    {
     "data": {
      "text/plain": [
       "'[O][=C][C][=C][C][=C][C][=C][Ring1][=Branch1]'"
      ]
     },
     "execution_count": 31,
     "metadata": {},
     "output_type": "execute_result"
    }
   ],
   "source": [
    "encoded_selfies"
   ]
  },
  {
   "cell_type": "code",
   "execution_count": 32,
   "metadata": {},
   "outputs": [
    {
     "data": {
      "text/plain": [
       "'O=CC1=CC=CC=C1'"
      ]
     },
     "execution_count": 32,
     "metadata": {},
     "output_type": "execute_result"
    }
   ],
   "source": [
    "decoded_smiles"
   ]
  },
  {
   "cell_type": "code",
   "execution_count": 33,
   "metadata": {},
   "outputs": [
    {
     "data": {
      "text/plain": [
       "True"
      ]
     },
     "execution_count": 33,
     "metadata": {},
     "output_type": "execute_result"
    }
   ],
   "source": [
    "Chem.CanonSmiles(original_smiles) == Chem.CanonSmiles(decoded_smiles)"
   ]
  },
  {
   "cell_type": "code",
   "execution_count": 34,
   "metadata": {},
   "outputs": [
    {
     "data": {
      "text/plain": [
       "{'H': 1,\n",
       " 'F': 1,\n",
       " 'Cl': 1,\n",
       " 'Br': 1,\n",
       " 'I': 1,\n",
       " 'B': 3,\n",
       " 'B+1': 2,\n",
       " 'B-1': 4,\n",
       " 'O': 2,\n",
       " 'O+1': 3,\n",
       " 'O-1': 1,\n",
       " 'N': 3,\n",
       " 'N+1': 4,\n",
       " 'N-1': 2,\n",
       " 'C': 4,\n",
       " 'C+1': 5,\n",
       " 'C-1': 3,\n",
       " 'P': 5,\n",
       " 'P+1': 6,\n",
       " 'P-1': 4,\n",
       " 'S': 6,\n",
       " 'S+1': 7,\n",
       " 'S-1': 5,\n",
       " '?': 8}"
      ]
     },
     "execution_count": 34,
     "metadata": {},
     "output_type": "execute_result"
    }
   ],
   "source": [
    "sf.get_preset_constraints('default')"
   ]
  },
  {
   "cell_type": "code",
   "execution_count": 35,
   "metadata": {},
   "outputs": [
    {
     "data": {
      "text/plain": [
       "'[Li]=CCS=CC#S'"
      ]
     },
     "execution_count": 35,
     "metadata": {},
     "output_type": "execute_result"
    }
   ],
   "source": [
    "sf.decoder(\"[Li][=C][C][S][=C][C][#S]\")"
   ]
  },
  {
   "cell_type": "code",
   "execution_count": 36,
   "metadata": {},
   "outputs": [],
   "source": [
    "new_constraints = sf.get_preset_constraints(\"default\")\n",
    "new_constraints['Li'] = 1\n",
    "new_constraints['S'] = 2\n",
    "\n",
    "sf.set_semantic_constraints(new_constraints)"
   ]
  },
  {
   "cell_type": "code",
   "execution_count": 37,
   "metadata": {},
   "outputs": [
    {
     "data": {
      "text/plain": [
       "{'H': 1,\n",
       " 'F': 1,\n",
       " 'Cl': 1,\n",
       " 'Br': 1,\n",
       " 'I': 1,\n",
       " 'B': 3,\n",
       " 'B+1': 2,\n",
       " 'B-1': 4,\n",
       " 'O': 2,\n",
       " 'O+1': 3,\n",
       " 'O-1': 1,\n",
       " 'N': 3,\n",
       " 'N+1': 4,\n",
       " 'N-1': 2,\n",
       " 'C': 4,\n",
       " 'C+1': 5,\n",
       " 'C-1': 3,\n",
       " 'P': 5,\n",
       " 'P+1': 6,\n",
       " 'P-1': 4,\n",
       " 'S': 2,\n",
       " 'S+1': 7,\n",
       " 'S-1': 5,\n",
       " '?': 8,\n",
       " 'Li': 1}"
      ]
     },
     "execution_count": 37,
     "metadata": {},
     "output_type": "execute_result"
    }
   ],
   "source": [
    "sf.get_semantic_constraints()"
   ]
  },
  {
   "cell_type": "code",
   "execution_count": 38,
   "metadata": {},
   "outputs": [
    {
     "data": {
      "text/plain": [
       "'[Li]CCSCC=S'"
      ]
     },
     "execution_count": 38,
     "metadata": {},
     "output_type": "execute_result"
    }
   ],
   "source": [
    "sf.decoder(\"[Li][=C][C][S][=C][C][#S]\")"
   ]
  },
  {
   "cell_type": "code",
   "execution_count": 39,
   "metadata": {},
   "outputs": [],
   "source": [
    "sf.set_semantic_constraints()"
   ]
  },
  {
   "cell_type": "code",
   "execution_count": 40,
   "metadata": {},
   "outputs": [
    {
     "data": {
      "text/plain": [
       "'[Li]=CCS=CC#S'"
      ]
     },
     "execution_count": 40,
     "metadata": {},
     "output_type": "execute_result"
    }
   ],
   "source": [
    "sf.decoder(\"[Li][=C][C][S][=C][C][#S]\")"
   ]
  },
  {
   "cell_type": "code",
   "execution_count": 41,
   "metadata": {},
   "outputs": [
    {
     "data": {
      "text/plain": [
       "['[C][O][C]',\n",
       " '[F][C][F]',\n",
       " '[O][=O]',\n",
       " '[O][=C][C][=C][C][=C][C][=C][Ring1][=Branch1]']"
      ]
     },
     "execution_count": 41,
     "metadata": {},
     "output_type": "execute_result"
    }
   ],
   "source": [
    "smiles_dataset = [\"COC\", \"FCF\", \"O=O\", \"O=Cc1ccccc1\"]\n",
    "selfies_dataset = list(map(sf.encoder, smiles_dataset))\n",
    "\n",
    "selfies_dataset"
   ]
  },
  {
   "cell_type": "code",
   "execution_count": 42,
   "metadata": {},
   "outputs": [
    {
     "data": {
      "text/plain": [
       "10"
      ]
     },
     "execution_count": 42,
     "metadata": {},
     "output_type": "execute_result"
    }
   ],
   "source": [
    "max_len = max(sf.len_selfies(s) for s in selfies_dataset)\n",
    "max_len"
   ]
  },
  {
   "cell_type": "code",
   "execution_count": 43,
   "metadata": {},
   "outputs": [
    {
     "data": {
      "text/plain": [
       "['[=Branch1]', '[=C]', '[=O]', '[C]', '[F]', '[O]', '[Ring1]', '[nop]']"
      ]
     },
     "execution_count": 43,
     "metadata": {},
     "output_type": "execute_result"
    }
   ],
   "source": [
    "alphabet = sf.get_alphabet_from_selfies(selfies_dataset)\n",
    "alphabet.add(\"[nop]\")\n",
    "\n",
    "alphabet = list(sorted(alphabet))\n",
    "alphabet"
   ]
  },
  {
   "cell_type": "code",
   "execution_count": 44,
   "metadata": {},
   "outputs": [
    {
     "data": {
      "text/plain": [
       "{'[=Branch1]': 0,\n",
       " '[=C]': 1,\n",
       " '[=O]': 2,\n",
       " '[C]': 3,\n",
       " '[F]': 4,\n",
       " '[O]': 5,\n",
       " '[Ring1]': 6,\n",
       " '[nop]': 7}"
      ]
     },
     "execution_count": 44,
     "metadata": {},
     "output_type": "execute_result"
    }
   ],
   "source": [
    "vocab_stoi = {symbol: idx for idx, symbol in enumerate(alphabet)}\n",
    "vocab_itos = {idx: symbol for symbol, idx in vocab_stoi.items()}\n",
    "\n",
    "vocab_stoi"
   ]
  },
  {
   "cell_type": "code",
   "execution_count": 45,
   "metadata": {},
   "outputs": [],
   "source": [
    "dimethyl_ether = selfies_dataset[0]\n",
    "label,one_hot = sf.selfies_to_encoding(dimethyl_ether,vocab_stoi,pad_to_len=max_len)"
   ]
  },
  {
   "cell_type": "code",
   "execution_count": 46,
   "metadata": {},
   "outputs": [
    {
     "data": {
      "text/plain": [
       "[3, 5, 3, 7, 7, 7, 7, 7, 7, 7]"
      ]
     },
     "execution_count": 46,
     "metadata": {},
     "output_type": "execute_result"
    }
   ],
   "source": [
    "label"
   ]
  },
  {
   "cell_type": "code",
   "execution_count": 47,
   "metadata": {},
   "outputs": [
    {
     "data": {
      "text/plain": [
       "[[0, 0, 0, 1, 0, 0, 0, 0],\n",
       " [0, 0, 0, 0, 0, 1, 0, 0],\n",
       " [0, 0, 0, 1, 0, 0, 0, 0],\n",
       " [0, 0, 0, 0, 0, 0, 0, 1],\n",
       " [0, 0, 0, 0, 0, 0, 0, 1],\n",
       " [0, 0, 0, 0, 0, 0, 0, 1],\n",
       " [0, 0, 0, 0, 0, 0, 0, 1],\n",
       " [0, 0, 0, 0, 0, 0, 0, 1],\n",
       " [0, 0, 0, 0, 0, 0, 0, 1],\n",
       " [0, 0, 0, 0, 0, 0, 0, 1]]"
      ]
     },
     "execution_count": 47,
     "metadata": {},
     "output_type": "execute_result"
    }
   ],
   "source": [
    "one_hot"
   ]
  },
  {
   "cell_type": "code",
   "execution_count": 49,
   "metadata": {},
   "outputs": [
    {
     "data": {
      "text/plain": [
       "'[C][O][C][nop][nop][nop][nop][nop][nop][nop]'"
      ]
     },
     "execution_count": 49,
     "metadata": {},
     "output_type": "execute_result"
    }
   ],
   "source": [
    "dimethyl_ether = sf.encoding_to_selfies(label, vocab_itos, enc_type=\"label\")\n",
    "dimethyl_ether"
   ]
  },
  {
   "cell_type": "code",
   "execution_count": 50,
   "metadata": {},
   "outputs": [
    {
     "data": {
      "text/plain": [
       "'[C][O][C][nop][nop][nop][nop][nop][nop][nop]'"
      ]
     },
     "execution_count": 50,
     "metadata": {},
     "output_type": "execute_result"
    }
   ],
   "source": [
    "dimethyl_ether = sf.encoding_to_selfies(one_hot, vocab_itos, enc_type=\"one_hot\")\n",
    "dimethyl_ether"
   ]
  },
  {
   "cell_type": "code",
   "execution_count": null,
   "metadata": {},
   "outputs": [
    {
     "data": {
      "text/plain": [
       "['[C]', '[O]', '[C]']"
      ]
     },
     "execution_count": 51,
     "metadata": {},
     "output_type": "execute_result"
    }
   ],
   "source": [
    "list(sf.split_selfies(\"[C][O][C]\"))"
   ]
  }
 ],
 "metadata": {
  "kernelspec": {
   "display_name": "Python 3",
   "language": "python",
   "name": "python3"
  },
  "language_info": {
   "codemirror_mode": {
    "name": "ipython",
    "version": 3
   },
   "file_extension": ".py",
   "mimetype": "text/x-python",
   "name": "python",
   "nbconvert_exporter": "python",
   "pygments_lexer": "ipython3",
   "version": "3.9.13"
  }
 },
 "nbformat": 4,
 "nbformat_minor": 2
}
